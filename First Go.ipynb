{
 "cells": [
  {
   "cell_type": "code",
   "execution_count": 45,
   "metadata": {
    "collapsed": true
   },
   "outputs": [],
   "source": [
    "import gcp.bigquery as bq\n",
    "import pandas as pd\n",
    "import numpy as np\n",
    "import scipy\n",
    "\n",
    "\n",
    "import matplotlib.pyplot as plt\n",
    "\n",
    "from sklearn import datasets, svm\n",
    "from sklearn.feature_selection import SelectPercentile, f_classif"
   ]
  },
  {
   "cell_type": "markdown",
   "metadata": {},
   "source": [
    "Lets split the dataset into fraud and non fraud"
   ]
  },
  {
   "cell_type": "code",
   "execution_count": 8,
   "metadata": {
    "collapsed": true
   },
   "outputs": [],
   "source": [
    "%%sql --module frauds\n",
    "SELECT * FROM [FRAUD_US.KB_FRAUD_OUTPUT] \n",
    "where session_start is not null"
   ]
  },
  {
   "cell_type": "code",
   "execution_count": 24,
   "metadata": {
    "collapsed": true
   },
   "outputs": [],
   "source": [
    "%%sql --module nonfrauds\n",
    "SELECT *, rand(5) as rand\n",
    "FROM [FRAUD_US.KB_FRAUD_OUTPUT] \n",
    "where session_start is null\n",
    "limit 50000"
   ]
  },
  {
   "cell_type": "code",
   "execution_count": 26,
   "metadata": {
    "collapsed": false
   },
   "outputs": [
    {
     "data": {
      "text/html": [
       "\n",
       "    <div class=\"bqtv\" id=\"6_145925734377\"><table><tr><th>PAGE_VIEW_TS</th><th>PAGE_VIEW_DT</th><th>PAGE_VIEW_TM</th><th>COOKIE_FIRST_TX</th><th>COOKIE_THIRD_TX</th><th>USER_ID</th><th>IP_HASH_CD</th><th>DATA_CLLCTN_SERVER_NR</th><th>DATA_CLLCTN_SERVER_CD</th><th>SSL_IN</th><th>HOST_NR</th><th>URI_TX</th><th>URL_TX</th><th>RAW_URI_TX</th><th>RAW_URL_TX</th><th>REFRRL_TX</th><th>TAG_VERSIN_NR</th><th>AD_IMPRSN_TX</th><th>AD_CLICK_TX</th><th>ERROR_TX</th><th>PLTFRM_TX</th><th>FUNNEL_NR</th><th>FUNNEL_STEP_NO</th><th>FUNNEL_STEP_CD</th><th>FUNNEL_STEP_NR</th><th>FUNNEL_PRODCT_NR</th><th>FUNNEL_AM</th><th>FUNNEL_REFRNC_NO</th><th>BRAND_NR</th><th>SPLIT_PARMTR_TX</th><th>CONTNT_GROUP_TX</th><th>CONTNT_SUBGRP_TX</th><th>PAGE_TITLE_TX</th><th>PAGE_NM</th><th>PAGE_ID</th><th>USER_JOURNY_TX</th><th>EVENT_TYPE_CD</th><th>APP_SCREEN_NM</th><th>APP_SCREEN_CD</th><th>APP_PBLSHR_NR</th><th>APP_CATGRY_NR</th><th>APP_NM</th><th>APP_VERSIN_NO</th><th>APP_STATUS_NR</th><th>APP_EVENT_TS</th><th>USER_AGENT_TX</th><th>DEVICE_TYPE_NR</th><th>DEVICE_NM</th><th>DEVICE_TX</th><th>APP_DEVICE_NM</th><th>APP_DEVICE_TX</th><th>APP_OPRTNG_SYSTEM_TX</th><th>SCREEN_SIZE_TX</th><th>BROWSR_SIZE_TX</th><th>LANGUG_CD</th><th>TIME_ZONE_NO</th><th>CONTRY_CD</th><th>COMPNY_NM</th><th>MOBILE_NETWRK_NR</th><th>QUESTN_TX</th><th>ANSWER_TX</th><th>ANSWER_TYPE_CD</th><th>CUSTOM_PARMTR_LIST_TX</th><th>QUERY_TX</th><th>SEARCH_ENGINE_NM</th><th>PAID_SEARCH_IN</th><th>SEARCH_TX</th><th>TRAFFC_SOURCE_TX</th><th>TRAFFC_TYPE_TX</th><th>site_nr</th><th>site_brand_nr</th><th>SESSION_START</th><th>SESSION_END</th><th>SURE_IN</th><th>DEVICE</th><th>rand</th></tr><tr><td>2016-01-18 09:12:15</td><td>2016-01-18</td><td>09:12:15</td><td>edb42672-3e10-4a3e-bf79-aafd209539a1</td><td>WEBTRENDS_ID=edb42672-3e10-4a3e-bf79-aafd209539a1; WT_ACCT=edb42672-3e10-4a3e-bf79-aafd209539a1</td><td></td><td>9225dd30</td><td>dcsfn00jp100000w4d2tx3zos_2b3p</td><td>2b3p</td><td>1</td><td>secure.lloydsbank.co.uk</td><td>/personal/a/logon/entermemorableinformation.jsp</td><td>https://secure.lloydsbank.co.uk/personal/a/logon/entermemorableinformation.jsp</td><td>/personal/a/logon/entermemorableinformation.jsp</td><td>secure.lloydsbank.co.uk/personal/a/logon/entermemorableinformation.jsp</td><td>https://online.lloydsbank.co.uk/personal/logon/login.jsp?WT.ac=PLO0512</td><td>10.4.11</td><td>&nbsp;</td><td>&nbsp;</td><td>&nbsp;</td><td>&nbsp;</td><td>&nbsp;</td><td>&nbsp;</td><td>&nbsp;</td><td>&nbsp;</td><td>&nbsp;</td><td>&nbsp;</td><td>&nbsp;</td><td>Lloyds</td><td>personal</td><td>a</td><td>logon</td><td>Enter Memorable Information</td><td>&nbsp;</td><td>&nbsp;</td><td>&nbsp;</td><td>0</td><td>&nbsp;</td><td>&nbsp;</td><td>&nbsp;</td><td>&nbsp;</td><td>&nbsp;</td><td>&nbsp;</td><td>&nbsp;</td><td>&nbsp;</td><td>Mozilla/5.0 (Windows NT 6.1; WOW64; Trident/7.0; rv:11.0) like Gecko</td><td>Computer</td><td></td><td></td><td>&nbsp;</td><td>&nbsp;</td><td>&nbsp;</td><td>1093x614</td><td>1093x490</td><td>en-GB</td><td>0</td><td>united kingdom</td><td></td><td>&nbsp;</td><td>&nbsp;</td><td>&nbsp;</td><td>&nbsp;</td><td>brand</td><td>WT.z_testdom=0</td><td>&nbsp;</td><td>&nbsp;</td><td>&nbsp;</td><td>&nbsp;</td><td>&nbsp;</td><td>SECURE</td><td>LLoyds</td><td>&nbsp;</td><td>&nbsp;</td><td>&nbsp;</td><td>&nbsp;</td><td>0.72351326664</td></tr><tr><td>2016-01-21 17:44:13</td><td>2016-01-21</td><td>17:44:13</td><td>132a83b3-da05-4dc0-b27b-84ca569ad027</td><td>-</td><td></td><td>c0e3d485</td><td>dcsvm5u5510000wk5f6ky6x4w_3w4j</td><td>3w4j</td><td>&nbsp;</td><td></td><td>errorloggedout</td><td>app/errorloggedout</td><td>errorloggedout</td><td>&nbsp;</td><td>-</td><td>&nbsp;</td><td>&nbsp;</td><td>&nbsp;</td><td>&nbsp;</td><td>&nbsp;</td><td>&nbsp;</td><td>&nbsp;</td><td>&nbsp;</td><td>&nbsp;</td><td>&nbsp;</td><td>&nbsp;</td><td>&nbsp;</td><td>&nbsp;</td><td>lloydsmobilebankingnga</td><td>login</td><td>welcome to online banking</td><td>error logged out</td><td>&nbsp;</td><td>&nbsp;</td><td>&nbsp;</td><td>0</td><td>errorloggedout</td><td>s007</td><td>lloydsbankinggroup</td><td>lloydsnextgenapp</td><td>nextgenapp</td><td>ip8.0-8.0.552</td><td>live</td><td>1453398251.352861</td><td>Mozilla/5.0 (iPhone; CPU iPhone OS 9_2 like Mac OS X) AppleWebKit/601.1.46 (KHTML, like Gecko) Mobile/13C75</td><td>Mobile Phone</td><td>iPhone</td><td>iPhone</td><td>ipad3 wifi</td><td>ipad3,1</td><td>9.2</td><td>960x640</td><td>&nbsp;</td><td>en_gb</td><td>0</td><td>united kingdom</td><td></td><td>&nbsp;</td><td>&nbsp;</td><td>&nbsp;</td><td>&nbsp;</td><td>&nbsp;</td><td></td><td>&nbsp;</td><td>&nbsp;</td><td>&nbsp;</td><td>&nbsp;</td><td>&nbsp;</td><td>NGA NATIVE</td><td>LLoyds</td><td>&nbsp;</td><td>&nbsp;</td><td>&nbsp;</td><td>&nbsp;</td><td>0.374509199087</td></tr><tr><td>2016-01-20 21:50:35</td><td>2016-01-20</td><td>21:50:35</td><td>2220d1474049fb482e41453213574279</td><td>WEBTRENDS_ID=28e38a81-33ff-40b4-9397-aba10ddba3fc; WT_ACCT=28e38a81-33ff-40b4-9397-aba10ddba3fc</td><td></td><td>d36ea765</td><td>dcsxby8tz00000w8oh3utaci2_8p2n</td><td>8p2n</td><td>1</td><td>online.lloydsbank.co.uk</td><td>/personal/logon/login.jsp</td><td>https://online.lloydsbank.co.uk/personal/logon/login.jsp</td><td>/personal/logon/login.jsp</td><td>online.lloydsbank.co.uk/personal/logon/login.jsp</td><td>https://secure.lloydsbank.co.uk/personal/a/mobile/account_details_ress/OWEGXWFPRK2YXTJ2VOTFQ7HYVRZLXPQKOKUMLJRMQ5COIGSUP4WQ/WCCLTC6CDXY6UTQDQSBIAVWTD3VNBKWFCYB3YVA/62LCDBKEY6GJW/</td><td>8.6.2</td><td>&nbsp;</td><td>&nbsp;</td><td>&nbsp;</td><td>&nbsp;</td><td>mobileLogin</td><td>1</td><td>&nbsp;</td><td>&nbsp;</td><td>&nbsp;</td><td>&nbsp;</td><td>&nbsp;</td><td>&nbsp;</td><td>IB;mobilebanking</td><td>Mobile Banking</td><td>loginwithreglink</td><td>Lloyds Bank - Mobile Banking - Login</td><td>&nbsp;</td><td>&nbsp;</td><td>&nbsp;</td><td>0</td><td>&nbsp;</td><td>&nbsp;</td><td>&nbsp;</td><td>&nbsp;</td><td>&nbsp;</td><td>&nbsp;</td><td>&nbsp;</td><td>&nbsp;</td><td>Mozilla/5.0 (Linux; Android 5.1.1; D5503 Build/14.6.A.1.236) AppleWebKit/537.36 (KHTML, like Gecko) Chrome/47.0.2526.83 Mobile Safari/537.36</td><td>Mobile Phone</td><td>Xperia Z1 Compact</td><td>Xperia Z1 Compact</td><td>&nbsp;</td><td>&nbsp;</td><td>&nbsp;</td><td>360x640</td><td>360x511</td><td>en-GB</td><td>0</td><td>united kingdom</td><td></td><td>&nbsp;</td><td>&nbsp;</td><td>&nbsp;</td><td>&nbsp;</td><td>&nbsp;</td><td>target=/personal/a/accountenquiry/mobile/viewaccountoverview/viewproductdetailsmobileress.jsp?lnkcmd=ifCommercial%3AifCustomerBar%3AifMobLO%3AoutputLinkLogOutMobile&amp;al=&amp;SmartAppBannerSwitch=Y&amp;SmartAppBanner=Y</td><td>&nbsp;</td><td>&nbsp;</td><td>&nbsp;</td><td>&nbsp;</td><td>&nbsp;</td><td>MOBILE SECURE</td><td>LLoyds</td><td>&nbsp;</td><td>&nbsp;</td><td>&nbsp;</td><td>&nbsp;</td><td>0.651408162142</td></tr><tr><td>2016-01-26 20:37:13</td><td>2016-01-26</td><td>20:37:13</td><td>d01c6fb3-49c0-4522-9714-0b0fcd8e55e1</td><td>-</td><td></td><td>b45cc65a</td><td>dcsvm5u5510000wk5f6ky6x4w_3w4j</td><td>3w4j</td><td>&nbsp;</td><td></td><td>loginsplashscreen</td><td>app/loginsplashscreen</td><td>loginsplashscreen</td><td>&nbsp;</td><td>-</td><td>&nbsp;</td><td>&nbsp;</td><td>&nbsp;</td><td>&nbsp;</td><td>&nbsp;</td><td>otp</td><td>0</td><td>&nbsp;</td><td>&nbsp;</td><td>&nbsp;</td><td>&nbsp;</td><td>&nbsp;</td><td>&nbsp;</td><td>lloydsmobilebankingnga</td><td>login</td><td>otp</td><td>login splash screen</td><td>&nbsp;</td><td>&nbsp;</td><td>&nbsp;</td><td>0</td><td>loginsplashscreen</td><td>l001</td><td>lloydsbankinggroup</td><td>lloydsnextgenapp</td><td>nextgenapp</td><td>ip8.0-8.0.552</td><td>live</td><td>1453840626.655496</td><td>Mozilla/5.0 (iPhone; CPU iPhone OS 9_2_1 like Mac OS X) AppleWebKit/601.1.46 (KHTML, like Gecko) Mobile/13D15</td><td>Mobile Phone</td><td>iPhone</td><td>iPhone</td><td>iphone8,1</td><td>iphone8,1</td><td>9.2.1</td><td>1136x640</td><td>&nbsp;</td><td>en_gb</td><td>0</td><td>united kingdom</td><td></td><td>vodafone uk</td><td>&nbsp;</td><td>&nbsp;</td><td>&nbsp;</td><td>&nbsp;</td><td></td><td>&nbsp;</td><td>&nbsp;</td><td>&nbsp;</td><td>&nbsp;</td><td>&nbsp;</td><td>NGA NATIVE</td><td>LLoyds</td><td>&nbsp;</td><td>&nbsp;</td><td>&nbsp;</td><td>&nbsp;</td><td>0.921869815992</td></tr><tr><td>2016-01-27 17:27:23</td><td>2016-01-27</td><td>17:27:23</td><td>f05a4bab-0524-4ed5-8c82-a93078b552e1</td><td>-</td><td>+00826298524</td><td>52254ccc</td><td>dcsv85n2310000gcksq4c0y4w_3y4e</td><td>3y4e</td><td>&nbsp;</td><td></td><td>accountdetails</td><td>app/accountdetails</td><td>accountdetails</td><td>&nbsp;</td><td>-</td><td>&nbsp;</td><td>to be defined</td><td>&nbsp;</td><td>&nbsp;</td><td>&nbsp;</td><td>&nbsp;</td><td>&nbsp;</td><td>&nbsp;</td><td>&nbsp;</td><td>&nbsp;</td><td>&nbsp;</td><td>&nbsp;</td><td>&nbsp;</td><td>hxmobilebankingnga</td><td>accounts</td><td>account details</td><td>account details</td><td>&nbsp;</td><td>&nbsp;</td><td>&nbsp;</td><td>0</td><td>accountdetails</td><td>a002</td><td>lloydsbankinggroup</td><td>hxnextgenapp</td><td>nextgenapp</td><td>ip8.0-8.0.552</td><td>live</td><td>1453915643.509959</td><td>Mozilla/5.0 (iPhone; CPU iPhone OS 9_2_1 like Mac OS X) AppleWebKit/601.1.46 (KHTML, like Gecko) Mobile/13D15</td><td>Mobile Phone</td><td>iPhone</td><td>iPhone</td><td>iphone 6</td><td>iphone7,2</td><td>9.2.1</td><td>1136x640</td><td>&nbsp;</td><td>en_gb</td><td>0</td><td>united kingdom</td><td></td><td>vodafone uk</td><td>&nbsp;</td><td>&nbsp;</td><td>&nbsp;</td><td>&nbsp;</td><td>DCSext.month=2016%2F01&amp;DCSext.prevscrn=s010a&amp;DCSext.account=reward%20current%20account&amp;DCSext.counttransaction=0</td><td>&nbsp;</td><td>&nbsp;</td><td>&nbsp;</td><td>&nbsp;</td><td>&nbsp;</td><td>NGA NATIVE</td><td>Halifax</td><td>&nbsp;</td><td>&nbsp;</td><td>&nbsp;</td><td>&nbsp;</td><td>0.994035498658</td></tr></table></div>\n",
       "    <br />(rows: 5, time: 5.6s,     1TB processed, job: job_CglSCEFNEZa9LyydlPE6HFtzRHQ)<br />\n",
       "    <script>\n",
       "      require(['extensions/charting', 'element!6_145925734377', 'style!/static/extensions/charting.css'],\n",
       "        function(charts, dom) {\n",
       "          charts.render(dom,\n",
       "            {\n",
       "              chartStyle:\"table\",\n",
       "              dataName:\"3\",\n",
       "              fields:\"PAGE_VIEW_TS,PAGE_VIEW_DT,PAGE_VIEW_TM,COOKIE_FIRST_TX,COOKIE_THIRD_TX,USER_ID,IP_HASH_CD,DATA_CLLCTN_SERVER_NR,DATA_CLLCTN_SERVER_CD,SSL_IN,HOST_NR,URI_TX,URL_TX,RAW_URI_TX,RAW_URL_TX,REFRRL_TX,TAG_VERSIN_NR,AD_IMPRSN_TX,AD_CLICK_TX,ERROR_TX,PLTFRM_TX,FUNNEL_NR,FUNNEL_STEP_NO,FUNNEL_STEP_CD,FUNNEL_STEP_NR,FUNNEL_PRODCT_NR,FUNNEL_AM,FUNNEL_REFRNC_NO,BRAND_NR,SPLIT_PARMTR_TX,CONTNT_GROUP_TX,CONTNT_SUBGRP_TX,PAGE_TITLE_TX,PAGE_NM,PAGE_ID,USER_JOURNY_TX,EVENT_TYPE_CD,APP_SCREEN_NM,APP_SCREEN_CD,APP_PBLSHR_NR,APP_CATGRY_NR,APP_NM,APP_VERSIN_NO,APP_STATUS_NR,APP_EVENT_TS,USER_AGENT_TX,DEVICE_TYPE_NR,DEVICE_NM,DEVICE_TX,APP_DEVICE_NM,APP_DEVICE_TX,APP_OPRTNG_SYSTEM_TX,SCREEN_SIZE_TX,BROWSR_SIZE_TX,LANGUG_CD,TIME_ZONE_NO,CONTRY_CD,COMPNY_NM,MOBILE_NETWRK_NR,QUESTN_TX,ANSWER_TX,ANSWER_TYPE_CD,CUSTOM_PARMTR_LIST_TX,QUERY_TX,SEARCH_ENGINE_NM,PAID_SEARCH_IN,SEARCH_TX,TRAFFC_SOURCE_TX,TRAFFC_TYPE_TX,site_nr,site_brand_nr,SESSION_START,SESSION_END,SURE_IN,DEVICE,rand\",\n",
       "              totalRows:5,\n",
       "              rowsPerPage:25,\n",
       "            }, {}, {\"rows\": [{\"c\": [{\"v\": \"2016-01-18T09:12:15\"}, {\"v\": \"2016-01-18\"}, {\"v\": \"09:12:15\"}, {\"v\": \"edb42672-3e10-4a3e-bf79-aafd209539a1\"}, {\"v\": \"WEBTRENDS_ID=edb42672-3e10-4a3e-bf79-aafd209539a1; WT_ACCT=edb42672-3e10-4a3e-bf79-aafd209539a1\"}, {\"v\": \"\"}, {\"v\": \"9225dd30\"}, {\"v\": \"dcsfn00jp100000w4d2tx3zos_2b3p\"}, {\"v\": \"2b3p\"}, {\"v\": \"1\"}, {\"v\": \"secure.lloydsbank.co.uk\"}, {\"v\": \"/personal/a/logon/entermemorableinformation.jsp\"}, {\"v\": \"https://secure.lloydsbank.co.uk/personal/a/logon/entermemorableinformation.jsp\"}, {\"v\": \"/personal/a/logon/entermemorableinformation.jsp\"}, {\"v\": \"secure.lloydsbank.co.uk/personal/a/logon/entermemorableinformation.jsp\"}, {\"v\": \"https://online.lloydsbank.co.uk/personal/logon/login.jsp?WT.ac=PLO0512\"}, {\"v\": \"10.4.11\"}, {\"v\": null}, {\"v\": null}, {\"v\": null}, {\"v\": null}, {\"v\": null}, {\"v\": null}, {\"v\": null}, {\"v\": null}, {\"v\": null}, {\"v\": null}, {\"v\": null}, {\"v\": \"Lloyds\"}, {\"v\": \"personal\"}, {\"v\": \"a\"}, {\"v\": \"logon\"}, {\"v\": \"Enter Memorable Information\"}, {\"v\": null}, {\"v\": null}, {\"v\": null}, {\"v\": \"0\"}, {\"v\": null}, {\"v\": null}, {\"v\": null}, {\"v\": null}, {\"v\": null}, {\"v\": null}, {\"v\": null}, {\"v\": null}, {\"v\": \"Mozilla/5.0 (Windows NT 6.1; WOW64; Trident/7.0; rv:11.0) like Gecko\"}, {\"v\": \"Computer\"}, {\"v\": \"\"}, {\"v\": \"\"}, {\"v\": null}, {\"v\": null}, {\"v\": null}, {\"v\": \"1093x614\"}, {\"v\": \"1093x490\"}, {\"v\": \"en-GB\"}, {\"v\": \"0\"}, {\"v\": \"united kingdom\"}, {\"v\": \"\"}, {\"v\": null}, {\"v\": null}, {\"v\": null}, {\"v\": null}, {\"v\": \"brand\"}, {\"v\": \"WT.z_testdom=0\"}, {\"v\": null}, {\"v\": null}, {\"v\": null}, {\"v\": null}, {\"v\": null}, {\"v\": \"SECURE\"}, {\"v\": \"LLoyds\"}, {\"v\": null}, {\"v\": null}, {\"v\": null}, {\"v\": null}, {\"v\": 0.723513266639843}]}, {\"c\": [{\"v\": \"2016-01-21T17:44:13\"}, {\"v\": \"2016-01-21\"}, {\"v\": \"17:44:13\"}, {\"v\": \"132a83b3-da05-4dc0-b27b-84ca569ad027\"}, {\"v\": \"-\"}, {\"v\": \"\"}, {\"v\": \"c0e3d485\"}, {\"v\": \"dcsvm5u5510000wk5f6ky6x4w_3w4j\"}, {\"v\": \"3w4j\"}, {\"v\": null}, {\"v\": \"\"}, {\"v\": \"errorloggedout\"}, {\"v\": \"app/errorloggedout\"}, {\"v\": \"errorloggedout\"}, {\"v\": null}, {\"v\": \"-\"}, {\"v\": null}, {\"v\": null}, {\"v\": null}, {\"v\": null}, {\"v\": null}, {\"v\": null}, {\"v\": null}, {\"v\": null}, {\"v\": null}, {\"v\": null}, {\"v\": null}, {\"v\": null}, {\"v\": null}, {\"v\": \"lloydsmobilebankingnga\"}, {\"v\": \"login\"}, {\"v\": \"welcome to online banking\"}, {\"v\": \"error logged out\"}, {\"v\": null}, {\"v\": null}, {\"v\": null}, {\"v\": \"0\"}, {\"v\": \"errorloggedout\"}, {\"v\": \"s007\"}, {\"v\": \"lloydsbankinggroup\"}, {\"v\": \"lloydsnextgenapp\"}, {\"v\": \"nextgenapp\"}, {\"v\": \"ip8.0-8.0.552\"}, {\"v\": \"live\"}, {\"v\": \"1453398251.352861\"}, {\"v\": \"Mozilla/5.0 (iPhone; CPU iPhone OS 9_2 like Mac OS X) AppleWebKit/601.1.46 (KHTML, like Gecko) Mobile/13C75\"}, {\"v\": \"Mobile Phone\"}, {\"v\": \"iPhone\"}, {\"v\": \"iPhone\"}, {\"v\": \"ipad3 wifi\"}, {\"v\": \"ipad3,1\"}, {\"v\": \"9.2\"}, {\"v\": \"960x640\"}, {\"v\": null}, {\"v\": \"en_gb\"}, {\"v\": \"0\"}, {\"v\": \"united kingdom\"}, {\"v\": \"\"}, {\"v\": null}, {\"v\": null}, {\"v\": null}, {\"v\": null}, {\"v\": null}, {\"v\": \"\"}, {\"v\": null}, {\"v\": null}, {\"v\": null}, {\"v\": null}, {\"v\": null}, {\"v\": \"NGA NATIVE\"}, {\"v\": \"LLoyds\"}, {\"v\": null}, {\"v\": null}, {\"v\": null}, {\"v\": null}, {\"v\": 0.37450919908686764}]}, {\"c\": [{\"v\": \"2016-01-20T21:50:35\"}, {\"v\": \"2016-01-20\"}, {\"v\": \"21:50:35\"}, {\"v\": \"2220d1474049fb482e41453213574279\"}, {\"v\": \"WEBTRENDS_ID=28e38a81-33ff-40b4-9397-aba10ddba3fc; WT_ACCT=28e38a81-33ff-40b4-9397-aba10ddba3fc\"}, {\"v\": \"\"}, {\"v\": \"d36ea765\"}, {\"v\": \"dcsxby8tz00000w8oh3utaci2_8p2n\"}, {\"v\": \"8p2n\"}, {\"v\": \"1\"}, {\"v\": \"online.lloydsbank.co.uk\"}, {\"v\": \"/personal/logon/login.jsp\"}, {\"v\": \"https://online.lloydsbank.co.uk/personal/logon/login.jsp\"}, {\"v\": \"/personal/logon/login.jsp\"}, {\"v\": \"online.lloydsbank.co.uk/personal/logon/login.jsp\"}, {\"v\": \"https://secure.lloydsbank.co.uk/personal/a/mobile/account_details_ress/OWEGXWFPRK2YXTJ2VOTFQ7HYVRZLXPQKOKUMLJRMQ5COIGSUP4WQ/WCCLTC6CDXY6UTQDQSBIAVWTD3VNBKWFCYB3YVA/62LCDBKEY6GJW/\"}, {\"v\": \"8.6.2\"}, {\"v\": null}, {\"v\": null}, {\"v\": null}, {\"v\": null}, {\"v\": \"mobileLogin\"}, {\"v\": \"1\"}, {\"v\": null}, {\"v\": null}, {\"v\": null}, {\"v\": null}, {\"v\": null}, {\"v\": null}, {\"v\": \"IB;mobilebanking\"}, {\"v\": \"Mobile Banking\"}, {\"v\": \"loginwithreglink\"}, {\"v\": \"Lloyds Bank - Mobile Banking - Login\"}, {\"v\": null}, {\"v\": null}, {\"v\": null}, {\"v\": \"0\"}, {\"v\": null}, {\"v\": null}, {\"v\": null}, {\"v\": null}, {\"v\": null}, {\"v\": null}, {\"v\": null}, {\"v\": null}, {\"v\": \"Mozilla/5.0 (Linux; Android 5.1.1; D5503 Build/14.6.A.1.236) AppleWebKit/537.36 (KHTML, like Gecko) Chrome/47.0.2526.83 Mobile Safari/537.36\"}, {\"v\": \"Mobile Phone\"}, {\"v\": \"Xperia Z1 Compact\"}, {\"v\": \"Xperia Z1 Compact\"}, {\"v\": null}, {\"v\": null}, {\"v\": null}, {\"v\": \"360x640\"}, {\"v\": \"360x511\"}, {\"v\": \"en-GB\"}, {\"v\": \"0\"}, {\"v\": \"united kingdom\"}, {\"v\": \"\"}, {\"v\": null}, {\"v\": null}, {\"v\": null}, {\"v\": null}, {\"v\": null}, {\"v\": \"target=/personal/a/accountenquiry/mobile/viewaccountoverview/viewproductdetailsmobileress.jsp?lnkcmd=ifCommercial%3AifCustomerBar%3AifMobLO%3AoutputLinkLogOutMobile&al=&SmartAppBannerSwitch=Y&SmartAppBanner=Y\"}, {\"v\": null}, {\"v\": null}, {\"v\": null}, {\"v\": null}, {\"v\": null}, {\"v\": \"MOBILE SECURE\"}, {\"v\": \"LLoyds\"}, {\"v\": null}, {\"v\": null}, {\"v\": null}, {\"v\": null}, {\"v\": 0.6514081621416334}]}, {\"c\": [{\"v\": \"2016-01-26T20:37:13\"}, {\"v\": \"2016-01-26\"}, {\"v\": \"20:37:13\"}, {\"v\": \"d01c6fb3-49c0-4522-9714-0b0fcd8e55e1\"}, {\"v\": \"-\"}, {\"v\": \"\"}, {\"v\": \"b45cc65a\"}, {\"v\": \"dcsvm5u5510000wk5f6ky6x4w_3w4j\"}, {\"v\": \"3w4j\"}, {\"v\": null}, {\"v\": \"\"}, {\"v\": \"loginsplashscreen\"}, {\"v\": \"app/loginsplashscreen\"}, {\"v\": \"loginsplashscreen\"}, {\"v\": null}, {\"v\": \"-\"}, {\"v\": null}, {\"v\": null}, {\"v\": null}, {\"v\": null}, {\"v\": null}, {\"v\": \"otp\"}, {\"v\": \"0\"}, {\"v\": null}, {\"v\": null}, {\"v\": null}, {\"v\": null}, {\"v\": null}, {\"v\": null}, {\"v\": \"lloydsmobilebankingnga\"}, {\"v\": \"login\"}, {\"v\": \"otp\"}, {\"v\": \"login splash screen\"}, {\"v\": null}, {\"v\": null}, {\"v\": null}, {\"v\": \"0\"}, {\"v\": \"loginsplashscreen\"}, {\"v\": \"l001\"}, {\"v\": \"lloydsbankinggroup\"}, {\"v\": \"lloydsnextgenapp\"}, {\"v\": \"nextgenapp\"}, {\"v\": \"ip8.0-8.0.552\"}, {\"v\": \"live\"}, {\"v\": \"1453840626.655496\"}, {\"v\": \"Mozilla/5.0 (iPhone; CPU iPhone OS 9_2_1 like Mac OS X) AppleWebKit/601.1.46 (KHTML, like Gecko) Mobile/13D15\"}, {\"v\": \"Mobile Phone\"}, {\"v\": \"iPhone\"}, {\"v\": \"iPhone\"}, {\"v\": \"iphone8,1\"}, {\"v\": \"iphone8,1\"}, {\"v\": \"9.2.1\"}, {\"v\": \"1136x640\"}, {\"v\": null}, {\"v\": \"en_gb\"}, {\"v\": \"0\"}, {\"v\": \"united kingdom\"}, {\"v\": \"\"}, {\"v\": \"vodafone uk\"}, {\"v\": null}, {\"v\": null}, {\"v\": null}, {\"v\": null}, {\"v\": \"\"}, {\"v\": null}, {\"v\": null}, {\"v\": null}, {\"v\": null}, {\"v\": null}, {\"v\": \"NGA NATIVE\"}, {\"v\": \"LLoyds\"}, {\"v\": null}, {\"v\": null}, {\"v\": null}, {\"v\": null}, {\"v\": 0.9218698159918703}]}, {\"c\": [{\"v\": \"2016-01-27T17:27:23\"}, {\"v\": \"2016-01-27\"}, {\"v\": \"17:27:23\"}, {\"v\": \"f05a4bab-0524-4ed5-8c82-a93078b552e1\"}, {\"v\": \"-\"}, {\"v\": \"+00826298524\"}, {\"v\": \"52254ccc\"}, {\"v\": \"dcsv85n2310000gcksq4c0y4w_3y4e\"}, {\"v\": \"3y4e\"}, {\"v\": null}, {\"v\": \"\"}, {\"v\": \"accountdetails\"}, {\"v\": \"app/accountdetails\"}, {\"v\": \"accountdetails\"}, {\"v\": null}, {\"v\": \"-\"}, {\"v\": null}, {\"v\": \"to be defined\"}, {\"v\": null}, {\"v\": null}, {\"v\": null}, {\"v\": null}, {\"v\": null}, {\"v\": null}, {\"v\": null}, {\"v\": null}, {\"v\": null}, {\"v\": null}, {\"v\": null}, {\"v\": \"hxmobilebankingnga\"}, {\"v\": \"accounts\"}, {\"v\": \"account details\"}, {\"v\": \"account details\"}, {\"v\": null}, {\"v\": null}, {\"v\": null}, {\"v\": \"0\"}, {\"v\": \"accountdetails\"}, {\"v\": \"a002\"}, {\"v\": \"lloydsbankinggroup\"}, {\"v\": \"hxnextgenapp\"}, {\"v\": \"nextgenapp\"}, {\"v\": \"ip8.0-8.0.552\"}, {\"v\": \"live\"}, {\"v\": \"1453915643.509959\"}, {\"v\": \"Mozilla/5.0 (iPhone; CPU iPhone OS 9_2_1 like Mac OS X) AppleWebKit/601.1.46 (KHTML, like Gecko) Mobile/13D15\"}, {\"v\": \"Mobile Phone\"}, {\"v\": \"iPhone\"}, {\"v\": \"iPhone\"}, {\"v\": \"iphone 6\"}, {\"v\": \"iphone7,2\"}, {\"v\": \"9.2.1\"}, {\"v\": \"1136x640\"}, {\"v\": null}, {\"v\": \"en_gb\"}, {\"v\": \"0\"}, {\"v\": \"united kingdom\"}, {\"v\": \"\"}, {\"v\": \"vodafone uk\"}, {\"v\": null}, {\"v\": null}, {\"v\": null}, {\"v\": null}, {\"v\": \"DCSext.month=2016%2F01&DCSext.prevscrn=s010a&DCSext.account=reward%20current%20account&DCSext.counttransaction=0\"}, {\"v\": null}, {\"v\": null}, {\"v\": null}, {\"v\": null}, {\"v\": null}, {\"v\": \"NGA NATIVE\"}, {\"v\": \"Halifax\"}, {\"v\": null}, {\"v\": null}, {\"v\": null}, {\"v\": null}, {\"v\": 0.9940354986584143}]}], \"cols\": [{\"type\": \"datetime\", \"id\": \"PAGE_VIEW_TS\", \"label\": \"PAGE_VIEW_TS\"}, {\"type\": \"string\", \"id\": \"PAGE_VIEW_DT\", \"label\": \"PAGE_VIEW_DT\"}, {\"type\": \"string\", \"id\": \"PAGE_VIEW_TM\", \"label\": \"PAGE_VIEW_TM\"}, {\"type\": \"string\", \"id\": \"COOKIE_FIRST_TX\", \"label\": \"COOKIE_FIRST_TX\"}, {\"type\": \"string\", \"id\": \"COOKIE_THIRD_TX\", \"label\": \"COOKIE_THIRD_TX\"}, {\"type\": \"string\", \"id\": \"USER_ID\", \"label\": \"USER_ID\"}, {\"type\": \"string\", \"id\": \"IP_HASH_CD\", \"label\": \"IP_HASH_CD\"}, {\"type\": \"string\", \"id\": \"DATA_CLLCTN_SERVER_NR\", \"label\": \"DATA_CLLCTN_SERVER_NR\"}, {\"type\": \"string\", \"id\": \"DATA_CLLCTN_SERVER_CD\", \"label\": \"DATA_CLLCTN_SERVER_CD\"}, {\"type\": \"string\", \"id\": \"SSL_IN\", \"label\": \"SSL_IN\"}, {\"type\": \"string\", \"id\": \"HOST_NR\", \"label\": \"HOST_NR\"}, {\"type\": \"string\", \"id\": \"URI_TX\", \"label\": \"URI_TX\"}, {\"type\": \"string\", \"id\": \"URL_TX\", \"label\": \"URL_TX\"}, {\"type\": \"string\", \"id\": \"RAW_URI_TX\", \"label\": \"RAW_URI_TX\"}, {\"type\": \"string\", \"id\": \"RAW_URL_TX\", \"label\": \"RAW_URL_TX\"}, {\"type\": \"string\", \"id\": \"REFRRL_TX\", \"label\": \"REFRRL_TX\"}, {\"type\": \"string\", \"id\": \"TAG_VERSIN_NR\", \"label\": \"TAG_VERSIN_NR\"}, {\"type\": \"string\", \"id\": \"AD_IMPRSN_TX\", \"label\": \"AD_IMPRSN_TX\"}, {\"type\": \"string\", \"id\": \"AD_CLICK_TX\", \"label\": \"AD_CLICK_TX\"}, {\"type\": \"string\", \"id\": \"ERROR_TX\", \"label\": \"ERROR_TX\"}, {\"type\": \"string\", \"id\": \"PLTFRM_TX\", \"label\": \"PLTFRM_TX\"}, {\"type\": \"string\", \"id\": \"FUNNEL_NR\", \"label\": \"FUNNEL_NR\"}, {\"type\": \"string\", \"id\": \"FUNNEL_STEP_NO\", \"label\": \"FUNNEL_STEP_NO\"}, {\"type\": \"string\", \"id\": \"FUNNEL_STEP_CD\", \"label\": \"FUNNEL_STEP_CD\"}, {\"type\": \"string\", \"id\": \"FUNNEL_STEP_NR\", \"label\": \"FUNNEL_STEP_NR\"}, {\"type\": \"string\", \"id\": \"FUNNEL_PRODCT_NR\", \"label\": \"FUNNEL_PRODCT_NR\"}, {\"type\": \"string\", \"id\": \"FUNNEL_AM\", \"label\": \"FUNNEL_AM\"}, {\"type\": \"string\", \"id\": \"FUNNEL_REFRNC_NO\", \"label\": \"FUNNEL_REFRNC_NO\"}, {\"type\": \"string\", \"id\": \"BRAND_NR\", \"label\": \"BRAND_NR\"}, {\"type\": \"string\", \"id\": \"SPLIT_PARMTR_TX\", \"label\": \"SPLIT_PARMTR_TX\"}, {\"type\": \"string\", \"id\": \"CONTNT_GROUP_TX\", \"label\": \"CONTNT_GROUP_TX\"}, {\"type\": \"string\", \"id\": \"CONTNT_SUBGRP_TX\", \"label\": \"CONTNT_SUBGRP_TX\"}, {\"type\": \"string\", \"id\": \"PAGE_TITLE_TX\", \"label\": \"PAGE_TITLE_TX\"}, {\"type\": \"string\", \"id\": \"PAGE_NM\", \"label\": \"PAGE_NM\"}, {\"type\": \"string\", \"id\": \"PAGE_ID\", \"label\": \"PAGE_ID\"}, {\"type\": \"string\", \"id\": \"USER_JOURNY_TX\", \"label\": \"USER_JOURNY_TX\"}, {\"type\": \"string\", \"id\": \"EVENT_TYPE_CD\", \"label\": \"EVENT_TYPE_CD\"}, {\"type\": \"string\", \"id\": \"APP_SCREEN_NM\", \"label\": \"APP_SCREEN_NM\"}, {\"type\": \"string\", \"id\": \"APP_SCREEN_CD\", \"label\": \"APP_SCREEN_CD\"}, {\"type\": \"string\", \"id\": \"APP_PBLSHR_NR\", \"label\": \"APP_PBLSHR_NR\"}, {\"type\": \"string\", \"id\": \"APP_CATGRY_NR\", \"label\": \"APP_CATGRY_NR\"}, {\"type\": \"string\", \"id\": \"APP_NM\", \"label\": \"APP_NM\"}, {\"type\": \"string\", \"id\": \"APP_VERSIN_NO\", \"label\": \"APP_VERSIN_NO\"}, {\"type\": \"string\", \"id\": \"APP_STATUS_NR\", \"label\": \"APP_STATUS_NR\"}, {\"type\": \"string\", \"id\": \"APP_EVENT_TS\", \"label\": \"APP_EVENT_TS\"}, {\"type\": \"string\", \"id\": \"USER_AGENT_TX\", \"label\": \"USER_AGENT_TX\"}, {\"type\": \"string\", \"id\": \"DEVICE_TYPE_NR\", \"label\": \"DEVICE_TYPE_NR\"}, {\"type\": \"string\", \"id\": \"DEVICE_NM\", \"label\": \"DEVICE_NM\"}, {\"type\": \"string\", \"id\": \"DEVICE_TX\", \"label\": \"DEVICE_TX\"}, {\"type\": \"string\", \"id\": \"APP_DEVICE_NM\", \"label\": \"APP_DEVICE_NM\"}, {\"type\": \"string\", \"id\": \"APP_DEVICE_TX\", \"label\": \"APP_DEVICE_TX\"}, {\"type\": \"string\", \"id\": \"APP_OPRTNG_SYSTEM_TX\", \"label\": \"APP_OPRTNG_SYSTEM_TX\"}, {\"type\": \"string\", \"id\": \"SCREEN_SIZE_TX\", \"label\": \"SCREEN_SIZE_TX\"}, {\"type\": \"string\", \"id\": \"BROWSR_SIZE_TX\", \"label\": \"BROWSR_SIZE_TX\"}, {\"type\": \"string\", \"id\": \"LANGUG_CD\", \"label\": \"LANGUG_CD\"}, {\"type\": \"string\", \"id\": \"TIME_ZONE_NO\", \"label\": \"TIME_ZONE_NO\"}, {\"type\": \"string\", \"id\": \"CONTRY_CD\", \"label\": \"CONTRY_CD\"}, {\"type\": \"string\", \"id\": \"COMPNY_NM\", \"label\": \"COMPNY_NM\"}, {\"type\": \"string\", \"id\": \"MOBILE_NETWRK_NR\", \"label\": \"MOBILE_NETWRK_NR\"}, {\"type\": \"string\", \"id\": \"QUESTN_TX\", \"label\": \"QUESTN_TX\"}, {\"type\": \"string\", \"id\": \"ANSWER_TX\", \"label\": \"ANSWER_TX\"}, {\"type\": \"string\", \"id\": \"ANSWER_TYPE_CD\", \"label\": \"ANSWER_TYPE_CD\"}, {\"type\": \"string\", \"id\": \"CUSTOM_PARMTR_LIST_TX\", \"label\": \"CUSTOM_PARMTR_LIST_TX\"}, {\"type\": \"string\", \"id\": \"QUERY_TX\", \"label\": \"QUERY_TX\"}, {\"type\": \"string\", \"id\": \"SEARCH_ENGINE_NM\", \"label\": \"SEARCH_ENGINE_NM\"}, {\"type\": \"string\", \"id\": \"PAID_SEARCH_IN\", \"label\": \"PAID_SEARCH_IN\"}, {\"type\": \"string\", \"id\": \"SEARCH_TX\", \"label\": \"SEARCH_TX\"}, {\"type\": \"string\", \"id\": \"TRAFFC_SOURCE_TX\", \"label\": \"TRAFFC_SOURCE_TX\"}, {\"type\": \"string\", \"id\": \"TRAFFC_TYPE_TX\", \"label\": \"TRAFFC_TYPE_TX\"}, {\"type\": \"string\", \"id\": \"site_nr\", \"label\": \"site_nr\"}, {\"type\": \"string\", \"id\": \"site_brand_nr\", \"label\": \"site_brand_nr\"}, {\"type\": \"datetime\", \"id\": \"SESSION_START\", \"label\": \"SESSION_START\"}, {\"type\": \"datetime\", \"id\": \"SESSION_END\", \"label\": \"SESSION_END\"}, {\"type\": \"number\", \"id\": \"SURE_IN\", \"label\": \"SURE_IN\"}, {\"type\": \"string\", \"id\": \"DEVICE\", \"label\": \"DEVICE\"}, {\"type\": \"number\", \"id\": \"rand\", \"label\": \"rand\"}]});\n",
       "        }\n",
       "      );\n",
       "    </script>\n",
       "  "
      ],
      "text/plain": [
       "QueryResultsTable job_CglSCEFNEZa9LyydlPE6HFtzRHQ"
      ]
     },
     "execution_count": 26,
     "metadata": {},
     "output_type": "execute_result"
    }
   ],
   "source": [
    "%%bigquery sample --count 5 --query nonfrauds"
   ]
  },
  {
   "cell_type": "markdown",
   "metadata": {},
   "source": [
    "Ok now lets put into dataframes and merge the two"
   ]
  },
  {
   "cell_type": "code",
   "execution_count": 21,
   "metadata": {
    "collapsed": false
   },
   "outputs": [
    {
     "data": {
      "text/plain": [
       "44250"
      ]
     },
     "execution_count": 21,
     "metadata": {},
     "output_type": "execute_result"
    }
   ],
   "source": [
    "df1 = bq.Query(frauds).to_dataframe()\n",
    "len(df1)"
   ]
  },
  {
   "cell_type": "code",
   "execution_count": 25,
   "metadata": {
    "collapsed": false
   },
   "outputs": [
    {
     "data": {
      "text/plain": [
       "50000"
      ]
     },
     "execution_count": 25,
     "metadata": {},
     "output_type": "execute_result"
    }
   ],
   "source": [
    "df2 = bq.Query(nonfrauds).to_dataframe()\n",
    "len(df2)"
   ]
  },
  {
   "cell_type": "code",
   "execution_count": 22,
   "metadata": {
    "collapsed": false
   },
   "outputs": [],
   "source": [
    "df3 = df1.append(df2)"
   ]
  },
  {
   "cell_type": "markdown",
   "metadata": {},
   "source": [
    "Lets create the binary fraud identifier"
   ]
  },
  {
   "cell_type": "code",
   "execution_count": 31,
   "metadata": {
    "collapsed": false
   },
   "outputs": [],
   "source": [
    "df3['Fraud'] = np.where(df3['SESSION_START']=='Jan 1, 1970, 12:00:00 AM', '1', '0')"
   ]
  },
  {
   "cell_type": "markdown",
   "metadata": {},
   "source": [
    "Now lets define the X and Y and check the bias"
   ]
  },
  {
   "cell_type": "code",
   "execution_count": 40,
   "metadata": {
    "collapsed": false
   },
   "outputs": [],
   "source": [
    "Y = df3['Fraud']\n",
    "X = df3.drop('Fraud', axis=1)"
   ]
  },
  {
   "cell_type": "code",
   "execution_count": 47,
   "metadata": {
    "collapsed": false
   },
   "outputs": [
    {
     "name": "stdout",
     "output_type": "stream",
     "text": [
      "[['0' 94250]]\n"
     ]
    }
   ],
   "source": [
    "yFreq = scipy.stats.itemfreq(Y)\n",
    "print(yFreq)"
   ]
  },
  {
   "cell_type": "code",
   "execution_count": null,
   "metadata": {
    "collapsed": true
   },
   "outputs": [],
   "source": []
  }
 ],
 "metadata": {
  "kernelspec": {
   "display_name": "Python 2",
   "language": "python",
   "name": "python2"
  },
  "language_info": {
   "codemirror_mode": {
    "name": "ipython",
    "version": 2
   },
   "file_extension": ".py",
   "mimetype": "text/x-python",
   "name": "python",
   "nbconvert_exporter": "python",
   "pygments_lexer": "ipython2",
   "version": "2.7.9"
  }
 },
 "nbformat": 4,
 "nbformat_minor": 0
}
